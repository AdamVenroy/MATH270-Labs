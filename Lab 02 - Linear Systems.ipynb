{
 "cells": [
  {
   "cell_type": "markdown",
   "metadata": {},
   "source": [
    "<p hidden>$\n",
    "\\newcommand{\\phm}{\\phantom{-}}\n",
    "\\newcommand{\\vb}{\\underline{\\mathbf{b}}}\n",
    "\\newcommand{\\vf}{\\underline{\\mathbf{f}}}\n",
    "\\newcommand{\\vk}{\\underline{\\mathbf{k}}}\n",
    "\\newcommand{\\vx}{\\underline{\\mathbf{x}}}\n",
    "\\newcommand{\\vy}{\\underline{\\mathbf{y}}}\n",
    "\\newcommand{\\deriv}[3][]{\\frac{\\mathrm{d}^{#1}#2}{\\mathrm{d}#3^{#1}}}\n",
    "\\newcommand{\\partderiv}[3][]{\\frac{\\partial^{#1}#2}{\\partial#3^{#1}}}\n",
    "\\newcommand{\\intd}{\\,\\mathrm{d}}\n",
    "\\newcommand{\\rmd}{\\mathrm{d}}\n",
    "\\DeclareMathOperator{\\Uniform}{Uniform}\n",
    "\\DeclareMathOperator{\\Poisson}{Poisson}\n",
    "\\DeclareMathOperator{\\Normal}{Normal}\n",
    "\\DeclareMathOperator{\\Exponential}{Exponential}\n",
    "\\DeclareMathOperator{\\GammaDist}{Gamma}\n",
    "\\DeclareMathOperator{\\Prob}{P}\n",
    "\\DeclareMathOperator{\\Exp}{E}\n",
    "\\DeclareMathOperator{\\Var}{Var}\n",
    "$</p>\n",
    "\n",
    "# Lab 2: Linear Systems\n",
    "\n",
    "### Topics\n",
    "\n",
    "- **Mathematics:** Gaussian elimination; limitations of this basic method.\n",
    "- **Python:** Numpy array indexing, writing code for row operations, back substitution and basic partial pivoting."
   ]
  },
  {
   "cell_type": "code",
   "execution_count": 2,
   "metadata": {},
   "outputs": [],
   "source": [
    "import numpy as np"
   ]
  },
  {
   "cell_type": "markdown",
   "metadata": {},
   "source": [
    "## Basic Gaussian elimination\n",
    "\n",
    "Gaussian elimination is the basic method for solving linear systems by row operations.  For example, consider the linear system $A\\vx = \\vb$ where\n",
    "\n",
    "$$\n",
    "  A = \\begin{bmatrix}\n",
    "        2 & \\phm4 & -1 \\\\\n",
    "        2 & \\phm2 & \\phm8 \\\\\n",
    "        1 & \\phm1 & \\phm9 \\\\\n",
    "      \\end{bmatrix}, \\qquad\n",
    "  \\vb = \\begin{bmatrix} -2 \\\\ \\phm1 \\\\ \\phm0 \\end{bmatrix}.\n",
    "$$\n",
    "\n",
    "**Maths usually numbers the rows 1, 2, 3, but Python numbers them 0, 1, 2.  In this lab we will number the rows 0, 1, 2 in the maths as well, to be consistent.**  The first row operation in the Gaussian elimination process for this system eliminates the 2 from the second row (i.e. row 1): $R_1 \\leftarrow R_1 - R_0$.\n",
    "\n",
    "Enter the matrix $A$ and column vector $\\vb$ as defined above into Python below.  **Be careful about the data type of the arrays**: `np.array([[1, 2], [3, 4]])` will make an array of `int`s, which will cause problems later.  To get an array of `float`s, you need either to have one or more `float`s in the list you pass in, e.g. `np.array([[1., 2.], [3., 4.]])`, or to specify the array data type: `np.array([[1, 2], [3, 4]], dtype=float)`.\n",
    "\n",
    "It's a bit simpler to have $\\vb$ as a 1D array `np.array([a, b, c])` rather than a 2D single-column matrix `np.array([[a], [b], [c]])`, but 2D single-column matrices print out nicer.  Either will work as long as you are consistent.\n",
    "\n",
    "Try typing in commands that do the row operation $R_1 \\leftarrow R_1 - R_0$.  Remember to do the row operation on the right-hand side vector $\\vb$ as well as on $A$.\n",
    "\n",
    "You should use indexing to do the operations.  E.g. `A[0, :]` refers to the whole first row of `A`, as does `A[0]`, so `A[1, :] = A[1, :] + 3*A[0, :]` would do the row operation $R_1 \\leftarrow R_1 + 3R_0$, as would `A[1] = A[1] + 3*A[0]`."
   ]
  },
  {
   "cell_type": "code",
   "execution_count": 45,
   "metadata": {},
   "outputs": [
    {
     "name": "stdout",
     "output_type": "stream",
     "text": [
      "[[ 2.  4. -1.]\n",
      " [ 2.  2.  8.]\n",
      " [ 1.  1.  9.]]\n",
      "[-2  1  0]\n"
     ]
    }
   ],
   "source": [
    "A = np.array([[2, 4, -1], [2, 2, 8], [1, 1, 9]], dtype=float)\n",
    "b = np.array([-2,1,0])\n",
    "print(A)\n",
    "print(b)"
   ]
  },
  {
   "cell_type": "markdown",
   "metadata": {},
   "source": [
    "Write a function `rowop` that performs a specified row operation on a given matrix and column vector:\n",
    "```\n",
    "def rowop(A, b, i, j, r):\n",
    "    A = A.copy()\n",
    "    b = b.copy()\n",
    "    ...\n",
    "    return A, b\n",
    "```\n",
    "Note: like lists and dictionaries, Numpy arrays are passed into functions by reference, not by value.  This means if you modify `A` inside `rowop` without making a copy first, you are actually modifying the original array.  Modifying things passed into functions is usually a bad idea, as it makes the code harder to reason about, and may trip you up.\n",
    "\n",
    "The function `rowop` should take as arguments:\n",
    "- `A`: an $n \\times n$ matrix.\n",
    "- `b`: an $n \\times 1$ column vector.\n",
    "- `i`, `j`: row numbers between $0$ and $n-1$.\n",
    "- `r`: a real number.\n",
    "\n",
    "The function should perform the row operation\n",
    "\n",
    "$$\n",
    "  R_i \\leftarrow R_i + r R_j\n",
    "$$\n",
    "\n",
    "on the matrix `A` and vector `b`.  The new matrix and vector are then returned by the function.\n",
    "\n",
    "**Hint:** You should use indexing to operate on the whole row of `A` with a single command.\n",
    "\n",
    "Check that your `rowop` function works by defining `A` and `b` as above and running\n",
    "```\n",
    "  new_A, new_b = rowop(A, b, 1, 0, -1)\n",
    "```\n",
    "which should give\n",
    "\n",
    "$$\n",
    "  \\mathtt{new}\\_\\mathtt{A} = \\begin{bmatrix} 2 & \\phm4 & -1 \\\\ 0 & -2 & \\phm9 \\\\ 1 & \\phm1 & \\phm9 \\end{bmatrix}\n",
    "  \\!\\qquad \\text{and} \\qquad\n",
    "  \\mathtt{new}\\_\\mathtt{b} = \\begin{bmatrix} -2 \\\\ \\phm3 \\\\ \\phm0 \\end{bmatrix}.\n",
    "$$\n"
   ]
  },
  {
   "cell_type": "code",
   "execution_count": 5,
   "metadata": {},
   "outputs": [],
   "source": [
    "def rowop(A, b, i ,j, r):\n",
    "    A = A.copy()\n",
    "    b = b.copy()\n",
    "    A[i] = A[i] + r*A[j]\n",
    "    b[i] = b[i] + r*b[j]\n",
    "    return A, b\n",
    "\n"
   ]
  },
  {
   "cell_type": "markdown",
   "metadata": {},
   "source": [
    "`rowop` is now a useful building block, and we won't modify it again.  Below, write code that defines `A` and `b` and uses your `rowop` function three times, to perform the above row operation and two more to reduce $A$ to an upper-triangular matrix (i.e. all entries below the main diagonal are zero)."
   ]
  },
  {
   "cell_type": "code",
   "execution_count": 20,
   "metadata": {},
   "outputs": [
    {
     "name": "stdout",
     "output_type": "stream",
     "text": [
      "[[ 2.  4. -1.]\n",
      " [ 0. -2.  9.]\n",
      " [ 0.  0.  5.]] [-2  3  0]\n"
     ]
    }
   ],
   "source": [
    "A, b = rowop(A, b, 1, 0 ,-1)\n",
    "A, b = rowop(A, b, 2, 0, -1/2)\n",
    "A, b = rowop(A, b, 2, 1, -1/2)\n",
    "print(A, b)"
   ]
  },
  {
   "cell_type": "markdown",
   "metadata": {},
   "source": [
    "Now write a function `gauss_elim3` that takes in a matrix `A` and right hand side vector `b` and calls `rowop` to perform the (three) required row operations to reduce a general $3 \\times 3$ matrix to upper-triangular form."
   ]
  },
  {
   "cell_type": "code",
   "execution_count": 17,
   "metadata": {},
   "outputs": [
    {
     "name": "stdout",
     "output_type": "stream",
     "text": [
      "[[ 2.  4. -1.]\n",
      " [ 0. -2.  9.]\n",
      " [ 0.  0.  5.]] [-2.   3.  -0.5]\n",
      "[[ 2.  4. -1.]\n",
      " [ 0. -2.  9.]\n",
      " [ 0.  0.  5.]] [-2.   3.  -0.5]\n"
     ]
    }
   ],
   "source": [
    "A1 = np.array([[2, 4, -1], [2, 2, 8], [1, 1, 9]], dtype=float)\n",
    "b1 = np.array([-2,1,0], dtype=float)\n",
    "def gauss_elim3(A, b):\n",
    "    A = A.copy()\n",
    "    B = b.copy()\n",
    "    A, b = rowop(A, b, 1, 0, -A[1][0]/A[0][0])\n",
    "    A, b = rowop(A, b, 2, 0, -A[2][0]/A[0][0])\n",
    "    A, b = rowop(A, b, 2, 1, -A[2][1]/A[1][1])\n",
    "    print(A, b)\n",
    "    return A, b\n",
    "A1, b1 = gauss_elim3(A1, b1)\n",
    "print(A1, b1)"
   ]
  },
  {
   "cell_type": "markdown",
   "metadata": {},
   "source": [
    "## Back substitution\n",
    "\n",
    "The next step in solving the linear system is to find $\\vx$ by back substitution.  Below, write a `back_sub3` function that takes in a row-reduced `A` and `b` and returns the solution $\\vx$.\n",
    "```\n",
    "def back_sub3(A, b):\n",
    "    ...\n",
    "    return x\n",
    "```\n",
    "\n",
    "To calculate $\\vx$ by back substitution, start by defining `x` as a $3 \\times 1$ vector of zeros, and then calculating the last element of $\\vx$, `x[2]`:\n",
    "```\n",
    "  x = np.zeros((3, 1))\n",
    "  x[2] = b[2]/A[2, 2]\n",
    "```\n",
    "Now calculate `x[1]` and then `x[0]`.  **Hint:** The command for `x[1]` is NOT: `x[1] = b[1]/A[1, 1]`.  If you can't remember how to do back substitution, **try doing it on paper**, or look at your EMTH118 lecture notes from last year!\n",
    "\n",
    "Test your `back_sub3` function on the results of your `gauss_elim3` function above."
   ]
  },
  {
   "cell_type": "code",
   "execution_count": 19,
   "metadata": {},
   "outputs": [
    {
     "name": "stdout",
     "output_type": "stream",
     "text": [
      "[[ 2.85+0.j]\n",
      " [-1.95-0.j]\n",
      " [-0.1 +0.j]]\n"
     ]
    }
   ],
   "source": [
    "def back_sub3(A, b):\n",
    "    x = np.zeros((3,1), dtype=complex)\n",
    "    x[2] = b[2]/A[2, 2]\n",
    "    x[1] = (b[1]-x[2]*A[1,2])/A[1,1]\n",
    "    x[0] = (b[0]-x[2]*A[0,2]-x[1]*A[0,1])/A[0,0]\n",
    "    return x\n",
    "print(back_sub3(A1, b1))"
   ]
  },
  {
   "cell_type": "markdown",
   "metadata": {},
   "source": [
    "Below, write a `gauss3_basic` function that uses your `gauss_elim3` and `back_sub3` functions and returns the solution $\\vx$:\n",
    "```\n",
    "def gauss3_basic(A, b):\n",
    "    ...\n",
    "    return x\n",
    "```\n",
    "\n",
    "Incorporate these commands into your `gauss3_basic` function to find $\\vx$ by back substitution.  Your functions should not display anything.\n",
    "\n",
    "<div class=\"alert alert-warning\">\n",
    "  <h3 style=\"margin-top: 0;\">Checkpoint 1</h3>\n",
    "\n",
    "  Use <code>gauss3_basic</code> to solve this system $A\\vx = \\vb$ where $A$ is a random $3 \\times 3$ matrix and $\\vb$ is a vector of $1$s.  You can define $A$ and $\\vb$ with the commands\n",
    "<pre><code>A = np.random.rand((3, 3))\n",
    "b = np.ones(3)\n",
    "</code></pre>\n",
    "  Check that the answer given by your function is correct (think about how you can do this).\n",
    "</div>"
   ]
  },
  {
   "cell_type": "code",
   "execution_count": 22,
   "metadata": {},
   "outputs": [
    {
     "name": "stdout",
     "output_type": "stream",
     "text": [
      "[[ 3.00000000e+00+1.60000000e+01j  2.90000000e+01+0.00000000e+00j\n",
      "  -2.20000000e+01+0.00000000e+00j]\n",
      " [ 4.44089210e-16-1.11022302e-16j  3.98490566e+00+1.07471698e+01j\n",
      "  -1.07471698e+01+3.98490566e+00j]\n",
      " [-3.88578059e-16+3.33066907e-16j  1.77635684e-15+0.00000000e+00j\n",
      "   0.00000000e+00+1.77635684e-15j]] [0.+0.j 0.+0.j 0.+0.j]\n",
      "[[0.+0.j]\n",
      " [0.+0.j]\n",
      " [0.+0.j]]\n"
     ]
    }
   ],
   "source": [
    "def gauss3_basic(A, b):\n",
    "    A = A.copy()\n",
    "    b = b.copy()\n",
    "    A, b = gauss_elim3(A, b)\n",
    "    return back_sub3(A, b)\n",
    "\n",
    "A = np.array([[3+16j, 29, -22], [-3, 3+16j, -10], [5, 11, -10+16j]], dtype=complex)\n",
    "b = np.zeros(3, dtype=complex)\n",
    "x = gauss3_basic(A, b)\n",
    "print(x)"
   ]
  },
  {
   "cell_type": "markdown",
   "metadata": {},
   "source": [
    "## Problems with the basic method\n",
    "Now try using `gauss3_basic` to solve $A\\vx = \\vb$ where $\\vb$ is a vector of $1$s and\n",
    "\n",
    "$$\n",
    "  \\textrm{(i)} \\qquad\n",
    "  A = \\begin{bmatrix}\n",
    "        \\phm0 & \\phm1 & \\phm2 \\\\\n",
    "        \\phm1 & -1 & \\phm8 \\\\\n",
    "        -4 & -1 & \\phm3 \\\\\n",
    "      \\end{bmatrix},\n",
    "  \\qquad \\qquad\n",
    "  \\textrm{(ii)} \\qquad\n",
    "  A = \\begin{bmatrix}\n",
    "        2 & \\phm2 & -1 \\\\\n",
    "        2 & \\phm2 & \\phm8 \\\\\n",
    "        1 & -1 & \\phm9 \\\\\n",
    "      \\end{bmatrix}.\n",
    "$$\n",
    "\n",
    "What do you think went wrong?\n",
    "\n",
    "Reminder: Make sure your arrays are arrays of `float`s."
   ]
  },
  {
   "cell_type": "code",
   "execution_count": 154,
   "metadata": {},
   "outputs": [
    {
     "name": "stdout",
     "output_type": "stream",
     "text": [
      "[-1. -1.]\n"
     ]
    },
    {
     "name": "stderr",
     "output_type": "stream",
     "text": [
      "/tmp/ipykernel_36753/1885297603.py:8: RuntimeWarning: divide by zero encountered in double_scalars\n",
      "  A, b = rowop(A, b, 2, 1, -A[2][1]/A[1][1])\n",
      "/tmp/ipykernel_36753/2062082035.py:4: RuntimeWarning: invalid value encountered in multiply\n",
      "  A[i] = A[i] + r*A[j]\n",
      "/tmp/ipykernel_36753/2062082035.py:5: RuntimeWarning: invalid value encountered in double_scalars\n",
      "  b[i] = b[i] + r*b[j]\n"
     ]
    }
   ],
   "source": [
    "# i) tries to divide by 0 on the first step\n",
    "# ii)  tries to divide by 0 on the third step\n",
    "A1 = np.array(([0, 1, 2], [1, -1, 8], [-4, -1, 3]), dtype=float)\n",
    "A2 = np.array(([2, 2, -1], [2, 2, 8], [1, -1, 9]), dtype=float)\n",
    "b = np.ones(3, dtype=float)\n",
    "gauss3_basic(A1, b)\n",
    "gauss3_basic(A2, b)\n",
    "print(A1[1:, 1])"
   ]
  },
  {
   "cell_type": "markdown",
   "metadata": {},
   "source": [
    "Below, make a copy of `gauss_elim3` called `gauss_elim_pivot3` and modify it so that it can cope with this type of problem.  Make a copy of `gauss3_basic` called `gauss3` that uses the new `gauss_elim_pivot3` function.\n",
    "\n",
    "**Hint:** You can index with lists, not just numbers, so e.g. `A[[0, 2]]` will give you rows 0 and 2.  This makes swapping rows easy: `A[[0, 1]] = A[[1, 0]]` will swap the first two rows.\n",
    "\n",
    "**Hint 2:** You may find `np.argmax` useful.  It returns the index of the maximum element.  Alternatively, you can find the maximum location with `if` and `>`.\n",
    "\n",
    "<div class=\"alert alert-warning\">\n",
    "  <h3 style=\"margin-top: 0;\">Checkpoint 2</h3>\n",
    "\n",
    "  Use your new function to solve these two systems $A\\vx = \\vb$.  Check that the answer given by your function is correct.\n",
    "</div>"
   ]
  },
  {
   "cell_type": "code",
   "execution_count": 8,
   "metadata": {},
   "outputs": [
    {
     "name": "stdout",
     "output_type": "stream",
     "text": [
      "[[ 0.  1.  2.]\n",
      " [ 1. -1.  8.]\n",
      " [-4. -1.  3.]]\n",
      "[[-0.22222222]\n",
      " [ 0.55555556]\n",
      " [ 0.22222222]]\n",
      "[[ 2.  2. -1.]\n",
      " [ 2.  2.  8.]\n",
      " [ 1. -1.  9.]]\n",
      "[[ 0.75]\n",
      " [-0.25]\n",
      " [ 0.  ]]\n",
      "A1 Row 0 * x1 = [1.]\n",
      "A2 Row 0 * x2 = [1.]\n",
      "A1 Row 1 * x1 = [1.]\n",
      "A2 Row 1 * x2 = [1.]\n",
      "A1 Row 2 * x1 = [1.]\n",
      "A2 Row 2 * x2 = [1.]\n"
     ]
    }
   ],
   "source": [
    "\n",
    "def gauss_elim3_pivot(A, b):\n",
    "    A = A.copy()\n",
    "    B = b.copy()\n",
    "    max_index = np.argmax(np.abs(A[0:, 0]))\n",
    "    A[[0, max_index]] = A[[max_index, 0]]\n",
    "    b[[0, max_index]] = b[[max_index, 0]]\n",
    "    A, b = rowop(A, b, 1, 0, -A[1][0]/A[0][0])\n",
    "    A, b = rowop(A, b, 2, 0, -A[2][0]/A[0][0])\n",
    "    max_index = np.argmax(np.abs(A[1:, 1])) + 1\n",
    "    A[[1, max_index]] = A[[max_index, 1]]\n",
    "    b[[1, max_index]] = b[[max_index, 1]]\n",
    "    A, b = rowop(A, b, 2, 1, -A[2][1]/A[1][1])\n",
    "    return A, b\n",
    "\n",
    "def gauss3(A, b):\n",
    "    A = A.copy()\n",
    "    b = b.copy()\n",
    "    A, b = gauss_elim3_pivot(A, b)\n",
    "    return back_sub3(A, b)\n",
    "\n",
    "A1 = np.array(([0, 1, 2], [1, -1, 8], [-4, -1, 3]), dtype=float)\n",
    "A2 = np.array(([2, 2, -1], [2, 2, 8], [1, -1, 9]), dtype=float)\n",
    "b = np.ones(3, dtype=float)\n",
    "x1 = gauss3(A1, b)\n",
    "x2 = gauss3(A2, b)\n",
    "sum_value_A1 = 0\n",
    "sum_value_A2 = 0\n",
    "print(A1)\n",
    "print(x1)\n",
    "print(A2)\n",
    "print(x2)\n",
    "for i in range(3):\n",
    "    sum_value_A1 = 0\n",
    "    sum_value_A2 = 0\n",
    "    for j in range(3):\n",
    "        sum_value_A1 += A1[i][j]*x1[j]\n",
    "        sum_value_A2 += A2[i][j]*x2[j]\n",
    "    print(f\"A1 Row {i} * x1 = {sum_value_A1}\")\n",
    "    print(f\"A2 Row {i} * x2 = {sum_value_A2}\")"
   ]
  },
  {
   "cell_type": "markdown",
   "metadata": {},
   "source": [
    "## General systems of $n$ linear equations\n",
    "Below, make copies of your original `gauss_elim3`, `back_sub3`, and `gauss3_basic` functions (the versions without pivoting) called `gauss_elim`, `back_sub`, and `gauss_basic`, and modify them so that `gauss_basic` can solve a general system of $n$ linear equations, where $n$ can be any positive integer.  (You don't need to worry about pivoting here.)\n",
    "\n",
    "**Hint:** you will need to use two nested `for` loops to do the elimination process, followed by another two nested `for` loops for the back substitution process.  Think about which matrix entries you would need to ‘eliminate’ (i.e. make into zeros), and the order in which you would eliminate them, if you were doing Gaussian elimination on a large matrix.  Your first set of nested `for` loops should go through these entries in the same order, performing the necessary row operation at each step to eliminate that entry.  Your second set of nested loops should perform a similar procedure for back substitution.\n",
    "\n",
    "<div class=\"alert alert-warning\">\n",
    "  <h3 style=\"margin-top: 0;\">Checkpoint 3</h3>\n",
    "\n",
    "  Use your code to solve $A\\vx = \\vb$ where $A$ is a random $10 \\times 10$ matrix and $\\vb$ is a vector of $1$s.  Check that the answer given by your function is correct.\n",
    "</div>"
   ]
  },
  {
   "cell_type": "code",
   "execution_count": 6,
   "metadata": {
    "scrolled": true
   },
   "outputs": [
    {
     "name": "stdout",
     "output_type": "stream",
     "text": [
      "[[0.52841264 0.9518528  0.2326402  0.27005863 0.64892044 0.5540158\n",
      "  0.25178432 0.76735655 0.21555475 0.30714899]\n",
      " [0.57141256 0.41495023 0.25807481 0.8245794  0.20966663 0.93242235\n",
      "  0.30529906 0.86312607 0.24886879 0.33384041]\n",
      " [0.18223678 0.10089395 0.02933131 0.7647584  0.25927486 0.18883317\n",
      "  0.35692532 0.37957023 0.86121296 0.12852486]\n",
      " [0.40322416 0.18926006 0.42933395 0.08277748 0.34153945 0.99139404\n",
      "  0.15419263 0.72489741 0.65530812 0.97152536]\n",
      " [0.91312521 0.82777595 0.76187377 0.53189324 0.85863271 0.37764819\n",
      "  0.77003766 0.58044337 0.64962717 0.57320556]\n",
      " [0.48400183 0.69608418 0.62953188 0.74280714 0.83086551 0.73947331\n",
      "  0.17918879 0.60145506 0.91320514 0.36598444]\n",
      " [0.84066097 0.74414356 0.98580326 0.05303135 0.79188358 0.01116999\n",
      "  0.89561754 0.86373669 0.33801734 0.03506211]\n",
      " [0.33795624 0.52584554 0.28677812 0.52473533 0.82768921 0.22217368\n",
      "  0.95474193 0.07661543 0.53429984 0.17584501]\n",
      " [0.80091648 0.56770384 0.01462499 0.11738328 0.50618784 0.76432688\n",
      "  0.85997169 0.96304637 0.64021456 0.58445974]\n",
      " [0.69423185 0.8132324  0.22538424 0.18306938 0.72468636 0.82306469\n",
      "  0.41073938 0.68331281 0.01375521 0.80671034]]\n",
      "A Row 0 * X = 0.9999999999999999\n",
      "A Row 1 * X = 1.0\n",
      "A Row 2 * X = 0.9999999999999998\n",
      "A Row 3 * X = 0.9999999999999998\n",
      "A Row 4 * X = 0.9999999999999997\n",
      "A Row 5 * X = 0.9999999999999996\n",
      "A Row 6 * X = 0.9999999999999971\n",
      "A Row 7 * X = 0.9999999999999989\n",
      "A Row 8 * X = 1.0000000000000064\n",
      "A Row 9 * X = 1.0000000000000018\n"
     ]
    }
   ],
   "source": [
    "def gauss_elim(A, b):\n",
    "    A = A.copy()\n",
    "    b = b.copy()\n",
    "    for i in range(len(A)):\n",
    "        #max_index = np.argmax(np.abs(A[i:, i])) + i\n",
    "        #A[[i, max_index]] = A[[max_index, i]]\n",
    "        #b[[i, max_index]] = b[[max_index, i]]\n",
    "        for j in range(i+1, len(A)):\n",
    "            A, b = rowop(A, b, j, i, -A[j][i]/A[i][i])\n",
    "            \n",
    "    return A, b\n",
    "\n",
    "def back_sub(A, b):\n",
    "    x = np.zeros(len(A))\n",
    "    for i in reversed(range(len(A))):\n",
    "        x[i] = (b[i] - np.sum(A[i][i+1:]*x[i+1:]))/A[i][i]\n",
    "    return x\n",
    "        \n",
    "def gauss_basic(A, b):\n",
    "    A = A.copy()\n",
    "    b = b.copy()\n",
    "    A, b = gauss_elim(A, b)\n",
    "    return back_sub(A, b)\n",
    "\n",
    "A = np.random.rand(10, 10)\n",
    "b = np.ones(10, dtype=float)\n",
    "x = gauss_basic(A, b)\n",
    "\n",
    "print(A)\n",
    "for i in range(10):\n",
    "    sum_value_A = 0\n",
    "    for j in range(10):\n",
    "        sum_value_A += A[i][j]*x[j]\n",
    "    print(f\"A Row {i} * X = {sum_value_A}\")\n",
    "\n",
    "    "
   ]
  },
  {
   "cell_type": "code",
   "execution_count": 8,
   "metadata": {},
   "outputs": [
    {
     "name": "stdout",
     "output_type": "stream",
     "text": [
      "[0. 0. 0.]\n"
     ]
    },
    {
     "name": "stderr",
     "output_type": "stream",
     "text": [
      "/tmp/ipykernel_72418/3127480951.py:16: ComplexWarning: Casting complex values to real discards the imaginary part\n",
      "  x[i] = (b[i] - np.sum(A[i][i+1:]*x[i+1:]))/A[i][i]\n"
     ]
    }
   ],
   "source": [
    "A = np.array([[3+16j, 29, -22], [-3, 3+16j, -10], [5, 11, -10+16j]])\n",
    "b = np.zeros(3, dtype=complex)\n",
    "x = gauss_basic(A, b)\n",
    "print(x)"
   ]
  }
 ],
 "metadata": {
  "kernelspec": {
   "display_name": "Python 3 (ipykernel)",
   "language": "python",
   "name": "python3"
  },
  "language_info": {
   "codemirror_mode": {
    "name": "ipython",
    "version": 3
   },
   "file_extension": ".py",
   "mimetype": "text/x-python",
   "name": "python",
   "nbconvert_exporter": "python",
   "pygments_lexer": "ipython3",
   "version": "3.10.4"
  }
 },
 "nbformat": 4,
 "nbformat_minor": 4
}
